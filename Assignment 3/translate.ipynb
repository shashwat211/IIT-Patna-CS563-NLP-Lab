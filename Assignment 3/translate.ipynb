{
 "cells": [
  {
   "cell_type": "markdown",
   "metadata": {},
   "source": [
    "# Machine Translation : English to Hindi\n",
    "This assignment involves using Seq2Seq (https://arxiv.org/abs/1409.3215) and Attention (https://arxiv.org/abs/1409.0473) Models for Machine Translation."
   ]
  },
  {
   "cell_type": "markdown",
   "metadata": {},
   "source": [
    "### Import Requirements"
   ]
  },
  {
   "cell_type": "code",
   "execution_count": 1,
   "metadata": {},
   "outputs": [],
   "source": [
    "import re\n",
    "import time\n",
    "import math\n",
    "import random\n",
    "import string\n",
    "import gensim.downloader\n",
    "import numpy as np\n",
    "import matplotlib.pyplot as plt\n",
    "\n",
    "import torch\n",
    "import torch.nn as nn\n",
    "from torch import optim\n",
    "import torch.nn.functional as F\n",
    "\n",
    "from io import open\n",
    "from tqdm import tqdm\n",
    "from unicodedata import normalize\n",
    "from torchtext.data.metrics import bleu_score\n",
    "from __future__ import unicode_literals, print_function, division\n",
    "\n",
    "device = torch.device(\"cuda:1\" if torch.cuda.is_available() else \"cpu\")"
   ]
  },
  {
   "cell_type": "markdown",
   "metadata": {},
   "source": [
    "### Downloading Dataset\n",
    "We download the following file:\n",
    "- **MT.zip** : The dataset provided for the assignment"
   ]
  },
  {
   "cell_type": "code",
   "execution_count": 2,
   "metadata": {},
   "outputs": [
    {
     "name": "stdout",
     "output_type": "stream",
     "text": [
      "Archive:  MT.zip\n"
     ]
    }
   ],
   "source": [
    "!wget --no-check-certificate -q -nc 'https://docs.google.com/uc?export=download&id=1bEK6RCdnXIqg8JGrJIMvDaAM-baalGwt' -O MT.zip\n",
    "!unzip -n MT.zip"
   ]
  },
  {
   "cell_type": "markdown",
   "metadata": {},
   "source": [
    "The maximum length of english sentence in the dataset is set to be 150. Apart from this we can either choose to train or load pre-trained models for our models. Set `TRAIN` to `True` or `False` for training or loading the Seq2Seq model respectively. Similarly, `TRAIN_ATTN` for Attention model."
   ]
  },
  {
   "cell_type": "code",
   "execution_count": 3,
   "metadata": {},
   "outputs": [],
   "source": [
    "MAX_LENGTH = 150\n",
    "EMBEDDING_DIM = 300\n",
    "TRAIN = True\n",
    "TRAIN_ATTN = True"
   ]
  },
  {
   "cell_type": "markdown",
   "metadata": {},
   "source": [
    "### Defining the Language Class"
   ]
  },
  {
   "cell_type": "code",
   "execution_count": 4,
   "metadata": {},
   "outputs": [],
   "source": [
    "SOS_token = 0\n",
    "EOS_token = 1\n",
    "\n",
    "class Lang:\n",
    "    def __init__(self, name):\n",
    "        self.name = name\n",
    "        self.word2index = {}\n",
    "        self.word2count = {}\n",
    "        self.index2word = {0: \"SOS\", 1: \"EOS\"}\n",
    "        self.n_words = 2  # Count SOS and EOS\n",
    "\n",
    "    def addSentence(self, sentence):\n",
    "        for word in sentence.split(' '):\n",
    "            self.addWord(word)\n",
    "\n",
    "    def addWord(self, word):\n",
    "        if word not in self.word2index:\n",
    "            self.word2index[word] = self.n_words\n",
    "            self.word2count[word] = 1\n",
    "            self.index2word[self.n_words] = word\n",
    "            self.n_words += 1\n",
    "        else:\n",
    "            self.word2count[word] += 1"
   ]
  },
  {
   "cell_type": "markdown",
   "metadata": {},
   "source": [
    "### Processing the data"
   ]
  },
  {
   "cell_type": "code",
   "execution_count": 5,
   "metadata": {},
   "outputs": [],
   "source": [
    "def clean_text(text):\n",
    "    text = text.replace(u',','')\n",
    "    text = text.replace(u'\"','')\n",
    "    text = text.replace(u'\"','')\n",
    "    text = text.replace(u\"‘‘\",'')\n",
    "    text = text.replace(u\"’’\",'')\n",
    "    text = text.replace(u\"''\",'')\n",
    "    text = text.replace(u\"।\",'')\n",
    "    text=text.replace(u',','')\n",
    "    text=text.replace(u'\"','')\n",
    "    text=text.replace(u'(','')\n",
    "    text=text.replace(u')','')\n",
    "    text=text.replace(u'\"','')\n",
    "    text=text.replace(u':','')\n",
    "    text=text.replace(u\"'\",'')\n",
    "    text=text.replace(u\"‘‘\",'')\n",
    "    text=text.replace(u\"’’\",'')\n",
    "    text=text.replace(u\"''\",'')\n",
    "    text=text.replace(u\".\",'')\n",
    "    text=text.replace(u\"-\",'')\n",
    "    text=text.replace(u\"।\",'')\n",
    "    text=text.replace(u\"?\",'')\n",
    "    text=text.replace(u\"\\\\\",'')\n",
    "    text=text.replace(u\"_\",'')\n",
    "    text=text.replace(\"'\", \"\")\n",
    "    text=text.replace('\"', \"\")\n",
    "    text= re.sub(\"'\", '', text)\n",
    "    text= re.sub(\"’\", '', text)\n",
    "    text=re.sub('[0-9+\\-*/.%]', '', text)\n",
    "    text=text.strip()\n",
    "    text=re.sub(' +', ' ',text)\n",
    "    exclude = set(string.punctuation)\n",
    "    text= ''.join(ch for ch in text if ch not in exclude)\n",
    "    return text"
   ]
  },
  {
   "cell_type": "code",
   "execution_count": 6,
   "metadata": {},
   "outputs": [],
   "source": [
    "def pre_process_english_sentence(line):\n",
    "    line = line.lower()\n",
    "    line = clean_text(line)\n",
    "    re_print = re.compile('[^%s]' % re.escape(string.printable))\n",
    "    line = normalize('NFD', line).encode('ascii', 'ignore')\n",
    "    line = line.decode('UTF-8')\n",
    "    line = line.split()\n",
    "    line = [re_print.sub('', w) for w in line]\n",
    "    line = [word for word in line if word.isalpha()]\n",
    "    line = ' '.join(line)\n",
    "    return line\n",
    "\n",
    "def pre_process_hindi_sentence(line):\n",
    "    line=re.sub('[a-zA-Z]', '', line)\n",
    "    line = clean_text(line)\n",
    "    exclude = set(string.punctuation)\n",
    "    remove_digits = str.maketrans('', '', string.digits)\n",
    "    line = re.sub(\"'\", '', line)\n",
    "    line = ''.join(ch for ch in line if ch not in exclude)\n",
    "    line = line.translate(remove_digits)\n",
    "    line = re.sub(\"[२३०८१५७९४६]\", \"\", line)\n",
    "    line = line.strip()\n",
    "    line = re.sub(\" +\", \" \", line)\n",
    "    return (line)"
   ]
  },
  {
   "cell_type": "code",
   "execution_count": 7,
   "metadata": {},
   "outputs": [],
   "source": [
    "def normalizeString(s, lang):\n",
    "    if lang == 'english':\n",
    "        s = pre_process_english_sentence(s)\n",
    "    elif lang == 'hindi':\n",
    "        s = pre_process_hindi_sentence(s)\n",
    "    \n",
    "    return s"
   ]
  },
  {
   "cell_type": "code",
   "execution_count": 8,
   "metadata": {},
   "outputs": [],
   "source": [
    "def readLangs(lang1, lang2):\n",
    "    print(\"Reading lines...\")\n",
    "\n",
    "    # Read the file and split into lines\n",
    "    lang1_lines_train = open('./MT/%s.train' % (lang1), encoding='utf-8').\\\n",
    "        read().strip().split('\\n')\n",
    "\n",
    "    lang2_lines_train = open('./MT/%s.train' % (lang2), encoding='utf-8').\\\n",
    "        read().strip().split('\\n')\n",
    "\n",
    "    lang1_lines_test = open('./MT/%s.test' % (lang1), encoding='utf-8').\\\n",
    "        read().strip().split('\\n')\n",
    "\n",
    "    lang2_lines_test = open('./MT/%s.test' % (lang2), encoding='utf-8').\\\n",
    "        read().strip().split('\\n')\n",
    "\n",
    "    # Split every line into pairs and normalize\n",
    "    pairs_train = [[normalizeString(lang1_lines_train[idx], lang1), normalizeString(lang2_lines_train[idx], lang2)] \\\n",
    "        for idx, l in enumerate(lang1_lines_train)]\n",
    "\n",
    "    pairs_test = [[normalizeString(lang1_lines_test[idx], lang1), normalizeString(lang2_lines_test[idx], lang2)] \\\n",
    "        for idx, l in enumerate(lang1_lines_test)]\n",
    "\n",
    "    # Make Lang instances\n",
    "    input_lang = Lang(lang1)\n",
    "    output_lang = Lang(lang2)\n",
    "\n",
    "    return input_lang, output_lang, pairs_train, pairs_test"
   ]
  },
  {
   "cell_type": "code",
   "execution_count": 9,
   "metadata": {},
   "outputs": [
    {
     "name": "stdout",
     "output_type": "stream",
     "text": [
      "Reading lines...\n",
      "Read 52507 sentence pairs\n",
      "Counting words...\n",
      "Counted words:\n",
      "english 10307\n",
      "hindi 10764\n",
      "['reserve left', 'अतिरिक्त बाकीः']\n"
     ]
    }
   ],
   "source": [
    "def prepareData(lang1, lang2):\n",
    "    input_lang, output_lang, pairs_train, pairs_test = readLangs(lang1, lang2)\n",
    "    print(\"Read %s sentence pairs\" % (len(pairs_train) + len(pairs_test)))\n",
    "    # pairs = filterPairs(pairs)\n",
    "    # print(\"Trimmed to %s sentence pairs\" % len(pairs))\n",
    "    print(\"Counting words...\")\n",
    "    for pair in pairs_train:\n",
    "        input_lang.addSentence(pair[0])\n",
    "        output_lang.addSentence(pair[1])\n",
    "\n",
    "    for pair in pairs_test:\n",
    "        input_lang.addSentence(pair[0])\n",
    "        output_lang.addSentence(pair[1])\n",
    "        \n",
    "    print(\"Counted words:\")\n",
    "    print(input_lang.name, input_lang.n_words)\n",
    "    print(output_lang.name, output_lang.n_words)\n",
    "    return input_lang, output_lang, pairs_train, pairs_test\n",
    "\n",
    "\n",
    "input_lang, output_lang, pairs_train, pairs_test = prepareData('english', 'hindi')\n",
    "print(random.choice(pairs_train))"
   ]
  },
  {
   "cell_type": "markdown",
   "metadata": {},
   "source": [
    "### Loading Word2Vec Embeddings\n",
    "We load the pretrained word2vec embeddings using gensim"
   ]
  },
  {
   "cell_type": "code",
   "execution_count": 10,
   "metadata": {},
   "outputs": [],
   "source": [
    "wv = gensim.downloader.load('word2vec-google-news-300')"
   ]
  },
  {
   "cell_type": "code",
   "execution_count": 11,
   "metadata": {},
   "outputs": [
    {
     "name": "stdout",
     "output_type": "stream",
     "text": [
      "1518 words were randomly allocated embedding weights.\n"
     ]
    }
   ],
   "source": [
    "vocabulary = input_lang.word2index.items()\n",
    "word2vec_weights = np.zeros((input_lang.n_words, EMBEDDING_DIM), dtype=np.float32)\n",
    "\n",
    "count = 0\n",
    "\n",
    "for i, (word, idx) in enumerate(vocabulary):\n",
    "    try:\n",
    "        word2vec_weights[idx] = wv[word]\n",
    "    except:\n",
    "        word2vec_weights[idx] = np.random.random(EMBEDDING_DIM)\n",
    "        count += 1\n",
    "\n",
    "print(f'{count} words were randomly allocated embedding weights.')"
   ]
  },
  {
   "cell_type": "markdown",
   "metadata": {},
   "source": [
    "### The Encoder"
   ]
  },
  {
   "cell_type": "code",
   "execution_count": 12,
   "metadata": {},
   "outputs": [],
   "source": [
    "class EncoderRNN(nn.Module):\n",
    "    def __init__(self, input_size, hidden_size):\n",
    "        super(EncoderRNN, self).__init__()\n",
    "        self.hidden_size = hidden_size\n",
    "\n",
    "        # self.embedding = nn.Embedding(input_size, hidden_size)\n",
    "        self.embedding = nn.Embedding.from_pretrained(torch.from_numpy(word2vec_weights))\n",
    "        self.gru = nn.GRU(hidden_size, hidden_size)\n",
    "\n",
    "    def forward(self, input, hidden):\n",
    "        embedded = self.embedding(input).view(1, 1, -1)\n",
    "        output = embedded\n",
    "        output, hidden = self.gru(output, hidden)\n",
    "        return output, hidden\n",
    "\n",
    "    def initHidden(self):\n",
    "        return torch.zeros(1, 1, self.hidden_size, device=device)"
   ]
  },
  {
   "cell_type": "markdown",
   "metadata": {},
   "source": [
    "### The Decoder for Seq2Seq Model"
   ]
  },
  {
   "cell_type": "code",
   "execution_count": 13,
   "metadata": {},
   "outputs": [],
   "source": [
    "class DecoderRNN(nn.Module):\n",
    "    def __init__(self, hidden_size, output_size):\n",
    "        super(DecoderRNN, self).__init__()\n",
    "        self.hidden_size = hidden_size\n",
    "\n",
    "        self.embedding = nn.Embedding(output_size, hidden_size)\n",
    "        self.gru = nn.GRU(hidden_size, hidden_size)\n",
    "        self.out = nn.Linear(hidden_size, output_size)\n",
    "        self.softmax = nn.LogSoftmax(dim=1)\n",
    "\n",
    "    def forward(self, input, hidden):\n",
    "        output = self.embedding(input).view(1, 1, -1)\n",
    "        output = F.relu(output)\n",
    "        output, hidden = self.gru(output, hidden)\n",
    "        output = self.softmax(self.out(output[0]))\n",
    "        return output, hidden\n",
    "\n",
    "    def initHidden(self):\n",
    "        return torch.zeros(1, 1, self.hidden_size, device=device)"
   ]
  },
  {
   "cell_type": "markdown",
   "metadata": {},
   "source": [
    "### The Decoder for Attention Model"
   ]
  },
  {
   "cell_type": "code",
   "execution_count": 14,
   "metadata": {},
   "outputs": [],
   "source": [
    "class AttnDecoderRNN(nn.Module):\n",
    "    def __init__(self, hidden_size, output_size, dropout_p=0.1, max_length=MAX_LENGTH):\n",
    "        super(AttnDecoderRNN, self).__init__()\n",
    "        self.hidden_size = hidden_size\n",
    "        self.output_size = output_size\n",
    "        self.dropout_p = dropout_p\n",
    "        self.max_length = max_length\n",
    "\n",
    "        self.embedding = nn.Embedding(self.output_size, self.hidden_size)\n",
    "        self.attn = nn.Linear(self.hidden_size * 2, self.max_length)\n",
    "        self.attn_combine = nn.Linear(self.hidden_size * 2, self.hidden_size)\n",
    "        self.dropout = nn.Dropout(self.dropout_p)\n",
    "        self.gru = nn.GRU(self.hidden_size, self.hidden_size)\n",
    "        self.out = nn.Linear(self.hidden_size, self.output_size)\n",
    "\n",
    "    def forward(self, input, hidden, encoder_outputs):\n",
    "        embedded = self.embedding(input).view(1, 1, -1)\n",
    "        embedded = self.dropout(embedded)\n",
    "\n",
    "        attn_weights = F.softmax(\n",
    "            self.attn(torch.cat((embedded[0], hidden[0]), 1)), dim=1)\n",
    "        attn_applied = torch.bmm(attn_weights.unsqueeze(0),\n",
    "                                 encoder_outputs.unsqueeze(0))\n",
    "\n",
    "        output = torch.cat((embedded[0], attn_applied[0]), 1)\n",
    "        output = self.attn_combine(output).unsqueeze(0)\n",
    "\n",
    "        output = F.relu(output)\n",
    "        output, hidden = self.gru(output, hidden)\n",
    "\n",
    "        output = F.log_softmax(self.out(output[0]), dim=1)\n",
    "        return output, hidden, attn_weights\n",
    "\n",
    "    def initHidden(self):\n",
    "        return torch.zeros(1, 1, self.hidden_size, device=device)"
   ]
  },
  {
   "cell_type": "markdown",
   "metadata": {},
   "source": [
    "### Training Functions"
   ]
  },
  {
   "cell_type": "code",
   "execution_count": 15,
   "metadata": {},
   "outputs": [],
   "source": [
    "def indexesFromSentence(lang, sentence):\n",
    "    return [lang.word2index[word] for word in sentence.split(' ')]\n",
    "\n",
    "\n",
    "def tensorFromSentence(lang, sentence):\n",
    "    indexes = indexesFromSentence(lang, sentence)\n",
    "    indexes.append(EOS_token)\n",
    "    return torch.tensor(indexes, dtype=torch.long, device=device).view(-1, 1)\n",
    "\n",
    "\n",
    "def tensorsFromPair(pair):\n",
    "    input_tensor = tensorFromSentence(input_lang, pair[0])\n",
    "    target_tensor = tensorFromSentence(output_lang, pair[1])\n",
    "    return (input_tensor, target_tensor)"
   ]
  },
  {
   "cell_type": "code",
   "execution_count": 16,
   "metadata": {},
   "outputs": [],
   "source": [
    "teacher_forcing_ratio = 0.5\n",
    "\n",
    "\n",
    "def train(input_tensor, target_tensor, encoder, decoder, encoder_optimizer, decoder_optimizer, criterion, attention=False, max_length=MAX_LENGTH):\n",
    "    encoder_hidden = encoder.initHidden()\n",
    "\n",
    "    encoder_optimizer.zero_grad()\n",
    "    decoder_optimizer.zero_grad()\n",
    "\n",
    "    input_length = input_tensor.size(0)\n",
    "    target_length = target_tensor.size(0)\n",
    "\n",
    "    encoder_outputs = torch.zeros(max_length, encoder.hidden_size, device=device)\n",
    "\n",
    "    loss = 0\n",
    "\n",
    "    for ei in range(input_length):\n",
    "        encoder_output, encoder_hidden = encoder(\n",
    "            input_tensor[ei], encoder_hidden)\n",
    "        encoder_outputs[ei] = encoder_output[0, 0]\n",
    "\n",
    "    decoder_input = torch.tensor([[SOS_token]], device=device)\n",
    "\n",
    "    decoder_hidden = encoder_hidden\n",
    "\n",
    "    use_teacher_forcing = True if random.random() < teacher_forcing_ratio else False\n",
    "\n",
    "    if use_teacher_forcing:\n",
    "        # Teacher forcing: Feed the target as the next input\n",
    "        for di in range(target_length):\n",
    "            if attention:\n",
    "                decoder_output, decoder_hidden, decoder_attention = decoder(\n",
    "                    decoder_input, decoder_hidden, encoder_outputs)\n",
    "            else:\n",
    "                decoder_output, decoder_hidden = decoder(\n",
    "                    decoder_input, decoder_hidden)\n",
    "            loss += criterion(decoder_output, target_tensor[di])\n",
    "            decoder_input = target_tensor[di]  # Teacher forcing\n",
    "\n",
    "    else:\n",
    "        # Without teacher forcing: use its own predictions as the next input\n",
    "        for di in range(target_length):\n",
    "            if attention:\n",
    "                decoder_output, decoder_hidden, decoder_attention = decoder(\n",
    "                    decoder_input, decoder_hidden, encoder_outputs)\n",
    "            else:\n",
    "                decoder_output, decoder_hidden = decoder(\n",
    "                    decoder_input, decoder_hidden)\n",
    "            topv, topi = decoder_output.topk(1)\n",
    "            decoder_input = topi.squeeze().detach()  # detach from history as input\n",
    "\n",
    "            loss += criterion(decoder_output, target_tensor[di])\n",
    "            if decoder_input.item() == EOS_token:\n",
    "                break\n",
    "\n",
    "    loss.backward()\n",
    "\n",
    "    encoder_optimizer.step()\n",
    "    decoder_optimizer.step()\n",
    "\n",
    "    return loss.item() / target_length"
   ]
  },
  {
   "cell_type": "code",
   "execution_count": 17,
   "metadata": {},
   "outputs": [],
   "source": [
    "def asMinutes(s):\n",
    "    m = math.floor(s / 60)\n",
    "    s -= m * 60\n",
    "    return '%dm %ds' % (m, s)\n",
    "\n",
    "\n",
    "def timeSince(since, percent):\n",
    "    now = time.time()\n",
    "    s = now - since\n",
    "    es = s / (percent)\n",
    "    rs = es - s\n",
    "    return '%s (- %s)' % (asMinutes(s), asMinutes(rs))"
   ]
  },
  {
   "cell_type": "code",
   "execution_count": 18,
   "metadata": {},
   "outputs": [],
   "source": [
    "def trainIters(encoder, decoder, n_iters, print_every=1000, plot_every=100, learning_rate=0.006, attention=False):\n",
    "    start = time.time()\n",
    "    plot_losses = []\n",
    "    print_loss_total = 0  # Reset every print_every\n",
    "    plot_loss_total = 0  # Reset every plot_every\n",
    "\n",
    "    encoder_optimizer = optim.SGD(encoder.parameters(), lr=learning_rate)\n",
    "    decoder_optimizer = optim.SGD(decoder.parameters(), lr=learning_rate)\n",
    "    training_pairs = [tensorsFromPair(random.choice(pairs_train))\n",
    "                      for i in range(n_iters)]\n",
    "    criterion = nn.CrossEntropyLoss()\n",
    "\n",
    "    for iter in range(1, n_iters + 1):\n",
    "        training_pair = training_pairs[iter - 1]\n",
    "        input_tensor = training_pair[0]\n",
    "        target_tensor = training_pair[1]\n",
    "\n",
    "        loss = train(input_tensor, target_tensor, encoder,\n",
    "                     decoder, encoder_optimizer, decoder_optimizer, criterion, attention=attention)\n",
    "        print_loss_total += loss\n",
    "        plot_loss_total += loss\n",
    "\n",
    "        if iter % print_every == 0:\n",
    "            print_loss_avg = print_loss_total / print_every\n",
    "            print_loss_total = 0\n",
    "            print('%s (%d %d%%) %.4f' % (timeSince(start, iter / n_iters),\n",
    "                                         iter, iter / n_iters * 100, print_loss_avg))\n",
    "\n",
    "        if iter % plot_every == 0:\n",
    "            plot_loss_avg = plot_loss_total / plot_every\n",
    "            plot_losses.append(plot_loss_avg)\n",
    "            plot_loss_total = 0\n",
    "    \n",
    "    showPlot(plot_losses)"
   ]
  },
  {
   "cell_type": "code",
   "execution_count": 19,
   "metadata": {},
   "outputs": [],
   "source": [
    "plt.switch_backend('agg')\n",
    "\n",
    "def showPlot(points):\n",
    "    plt.figure()\n",
    "    fig, ax = plt.subplots()\n",
    "    plt.plot(points)"
   ]
  },
  {
   "cell_type": "markdown",
   "metadata": {},
   "source": [
    "### Evaluation Functions"
   ]
  },
  {
   "cell_type": "code",
   "execution_count": 20,
   "metadata": {},
   "outputs": [],
   "source": [
    "def evaluate(encoder, decoder, sentence, attention=False, max_length=MAX_LENGTH):\n",
    "    with torch.no_grad():\n",
    "        input_tensor = tensorFromSentence(input_lang, sentence)\n",
    "        input_length = input_tensor.size()[0]\n",
    "        encoder_hidden = encoder.initHidden()\n",
    "\n",
    "        encoder_outputs = torch.zeros(max_length, encoder.hidden_size, device=device)\n",
    "\n",
    "        for ei in range(input_length):\n",
    "            encoder_output, encoder_hidden = encoder(input_tensor[ei],\n",
    "                                                     encoder_hidden)\n",
    "            encoder_outputs[ei] += encoder_output[0, 0]\n",
    "\n",
    "        decoder_input = torch.tensor([[SOS_token]], device=device)  # SOS\n",
    "\n",
    "        decoder_hidden = encoder_hidden\n",
    "\n",
    "        decoded_words = []\n",
    "        decoder_attentions = torch.zeros(max_length, max_length)\n",
    "\n",
    "        for di in range(max_length):\n",
    "            if attention:\n",
    "                decoder_output, decoder_hidden, decoder_attention = decoder(\n",
    "                    decoder_input, decoder_hidden, encoder_outputs)\n",
    "                decoder_attentions[di] = decoder_attention.data\n",
    "            else:\n",
    "                decoder_output, decoder_hidden = decoder(\n",
    "                    decoder_input, decoder_hidden)\n",
    "            \n",
    "            topv, topi = decoder_output.data.topk(1)\n",
    "            if topi.item() == EOS_token:\n",
    "                decoded_words.append('<EOS>')\n",
    "                break\n",
    "            else:\n",
    "                decoded_words.append(output_lang.index2word[topi.item()])\n",
    "\n",
    "            decoder_input = topi.squeeze().detach()\n",
    "        \n",
    "        if decoded_words[-1] == '<EOS>':\n",
    "            decoded_words.pop()\n",
    "        \n",
    "        if attention:\n",
    "            return decoded_words, decoder_attentions[:di + 1]\n",
    "        \n",
    "        return decoded_words"
   ]
  },
  {
   "cell_type": "code",
   "execution_count": 21,
   "metadata": {},
   "outputs": [],
   "source": [
    "def evaluateRandomly(encoder, decoder, attention=False, n=10):\n",
    "    for i in range(n):\n",
    "        pair = random.choice(pairs_train)\n",
    "        print('>', pair[0])\n",
    "        print('=', pair[1])\n",
    "        if attention:\n",
    "            output_words, attentions = evaluate(encoder, decoder, pair[0], attention=attention)\n",
    "        else:\n",
    "            output_words = evaluate(encoder, decoder, pair[0], attention=attention)\n",
    "        output_sentence = ' '.join(output_words)\n",
    "        print('<', output_sentence)\n",
    "        print('')"
   ]
  },
  {
   "cell_type": "markdown",
   "metadata": {},
   "source": [
    "### The Models"
   ]
  },
  {
   "cell_type": "code",
   "execution_count": 22,
   "metadata": {},
   "outputs": [],
   "source": [
    "hidden_size = 300\n",
    "encoder1 = EncoderRNN(input_lang.n_words, hidden_size).to(device)\n",
    "decoder1 = DecoderRNN(hidden_size, output_lang.n_words).to(device)\n",
    "attn_encoder1 = EncoderRNN(input_lang.n_words, hidden_size).to(device)\n",
    "attn_decoder1 = AttnDecoderRNN(hidden_size, output_lang.n_words, dropout_p=0.1).to(device)"
   ]
  },
  {
   "cell_type": "markdown",
   "metadata": {},
   "source": [
    "### Training/Loading the Seq2Seq Model"
   ]
  },
  {
   "cell_type": "code",
   "execution_count": null,
   "metadata": {},
   "outputs": [
    {
     "name": "stdout",
     "output_type": "stream",
     "text": [
      "3m 35s (- 68m 14s) (25000 5%) 4.4564\n",
      "6m 58s (- 62m 46s) (50000 10%) 3.9758\n",
      "10m 42s (- 60m 38s) (75000 15%) 3.3391\n",
      "14m 40s (- 58m 43s) (100000 20%) 2.6857\n",
      "19m 3s (- 57m 11s) (125000 25%) 2.1222\n",
      "23m 30s (- 54m 50s) (150000 30%) 1.6609\n",
      "27m 59s (- 51m 59s) (175000 35%) 1.2784\n",
      "32m 29s (- 48m 43s) (200000 40%) 1.0227\n",
      "36m 59s (- 45m 12s) (225000 45%) 0.8288\n",
      "41m 31s (- 41m 31s) (250000 50%) 0.7097\n",
      "46m 4s (- 37m 41s) (275000 55%) 0.6155\n",
      "50m 41s (- 33m 47s) (300000 60%) 0.5399\n",
      "55m 15s (- 29m 45s) (325000 65%) 0.4897\n",
      "59m 48s (- 25m 38s) (350000 70%) 0.4416\n",
      "64m 22s (- 21m 27s) (375000 75%) 0.4152\n",
      "68m 51s (- 17m 12s) (400000 80%) 0.3944\n",
      "73m 29s (- 12m 58s) (425000 85%) 0.3654\n",
      "78m 5s (- 8m 40s) (450000 90%) 0.3450\n",
      "82m 40s (- 4m 21s) (475000 95%) 0.3349\n",
      "87m 20s (- 0m 0s) (500000 100%) 0.3204\n"
     ]
    },
    {
     "data": {
      "text/plain": [
       "<Figure size 432x288 with 0 Axes>"
      ]
     },
     "metadata": {},
     "output_type": "display_data"
    },
    {
     "data": {
      "image/png": "[encoded data removed]",
      "text/plain": [
       "<Figure size 432x288 with 1 Axes>"
      ]
     },
     "metadata": {},
     "output_type": "display_data"
    }
   ],
   "source": [
    "%matplotlib inline\n",
    "\n",
    "if TRAIN:\n",
    "    trainIters(encoder1, decoder1, 500000, print_every=25000)\n",
    "    torch.save(encoder1.state_dict(), 'encoder.dict')\n",
    "    torch.save(decoder1.state_dict(), 'decoder.dict')\n",
    "else:\n",
    "    encoder1.load_state_dict(torch.load('encoder.dict'))\n",
    "    decoder1.load_state_dict(torch.load('decoder.dict'))"
   ]
  },
  {
   "cell_type": "markdown",
   "metadata": {},
   "source": [
    "### Training/Loading the Attention Model"
   ]
  },
  {
   "cell_type": "code",
   "execution_count": null,
   "metadata": {},
   "outputs": [
    {
     "name": "stdout",
     "output_type": "stream",
     "text": [
      "8m 36s (- 163m 38s) (25000 5%) 4.4537\n",
      "15m 7s (- 136m 9s) (50000 10%) 3.8896\n",
      "21m 47s (- 123m 31s) (75000 15%) 3.2689\n",
      "28m 30s (- 114m 0s) (100000 20%) 2.6277\n",
      "35m 22s (- 106m 7s) (125000 25%) 2.1120\n",
      "42m 14s (- 98m 32s) (150000 30%) 1.6399\n",
      "49m 13s (- 91m 25s) (175000 35%) 1.3436\n",
      "56m 17s (- 84m 26s) (200000 40%) 1.0708\n",
      "63m 24s (- 77m 29s) (225000 45%) 0.9166\n",
      "70m 34s (- 70m 34s) (250000 50%) 0.7935\n",
      "77m 38s (- 63m 31s) (275000 55%) 0.6935\n",
      "84m 32s (- 56m 21s) (300000 60%) 0.6229\n",
      "91m 22s (- 49m 12s) (325000 65%) 0.5736\n",
      "98m 15s (- 42m 6s) (350000 70%) 0.5271\n",
      "105m 14s (- 35m 4s) (375000 75%) 0.4900\n",
      "112m 10s (- 28m 2s) (400000 80%) 0.4559\n",
      "119m 5s (- 21m 0s) (425000 85%) 0.4470\n",
      "125m 55s (- 13m 59s) (450000 90%) 0.4311\n",
      "132m 51s (- 6m 59s) (475000 95%) 0.4172\n",
      "139m 47s (- 0m 0s) (500000 100%) 0.4035\n"
     ]
    },
    {
     "data": {
      "text/plain": [
       "<Figure size 432x288 with 0 Axes>"
      ]
     },
     "metadata": {},
     "output_type": "display_data"
    },
    {
     "data": {
      "image/png": "[encoded data removed]",
      "text/plain": [
       "<Figure size 432x288 with 1 Axes>"
      ]
     },
     "metadata": {},
     "output_type": "display_data"
    }
   ],
   "source": [
    "%matplotlib inline\n",
    "\n",
    "if TRAIN_ATTN:\n",
    "    trainIters(attn_encoder1, attn_decoder1, 500000, print_every=25000, attention=True)\n",
    "    torch.save(attn_encoder1.state_dict(), 'encoder_attn.dict')\n",
    "    torch.save(attn_decoder1.state_dict(), 'decoder_attn.dict')\n",
    "else:\n",
    "    attn_encoder1.load_state_dict(torch.load('encoder_attn.dict'))\n",
    "    attn_decoder1.load_state_dict(torch.load('decoder_attn.dict'))"
   ]
  },
  {
   "cell_type": "markdown",
   "metadata": {},
   "source": [
    "### Evaluating the Models on random sentences"
   ]
  },
  {
   "cell_type": "code",
   "execution_count": 25,
   "metadata": {},
   "outputs": [
    {
     "name": "stdout",
     "output_type": "stream",
     "text": [
      "> enable h tunneling\n",
      "= टनलिंग सक्षम करें\n",
      "< टनलिंग सक्षम करें\n",
      "\n",
      "> add an ekiga net account\n",
      "= खाता जोड़ें\n",
      "< खाता जोड़ें\n",
      "\n",
      "> the number of photos to take in a single burst\n",
      "= एकल बर्स्ट में लेने के लिए तस्वीर की संख्या\n",
      "< एकल बर्स्ट में लेने के लिए तस्वीर की संख्या\n",
      "\n",
      "> could not find a valid project backend for the given directory s please select a different directory or try upgrading to a newer version of anjuta\n",
      "= नहीं के लिए निर्देशिका से कृपया निर्देशिका या को संस्करण का\n",
      "< नहीं के लिए निर्देशिका से कृपया निर्देशिका या को संस्करण का\n",
      "\n",
      "> move a onto the nine of spades\n",
      "= को एक हुकुम का नहला पर ले जाएँ\n",
      "< को हुकुम का नहला पर ले जाएँ\n",
      "\n"
     ]
    }
   ],
   "source": [
    "evaluateRandomly(encoder1, decoder1, attention=False, n=5)"
   ]
  },
  {
   "cell_type": "code",
   "execution_count": 26,
   "metadata": {},
   "outputs": [
    {
     "name": "stdout",
     "output_type": "stream",
     "text": [
      "> convert eol to crlf\n",
      "= बदलें को\n",
      "< बदलें को\n",
      "\n",
      "> remove the eights\n",
      "= अट्ठा मिटाएँ\n",
      "< अट्ठा मिटाएँ\n",
      "\n",
      "> axis of rotation\n",
      "= घुमाव का अक्ष\n",
      "< घुमाव का अक्ष\n",
      "\n",
      "> mailbox files to apply\n",
      "= डाक डिब्बा फ़ाइल कोः\n",
      "< डाक डिब्बा फ़ाइल कोः\n",
      "\n",
      "> deal another round\n",
      "= एक दौर और चलें\n",
      "< एक दौर और चलें\n",
      "\n"
     ]
    }
   ],
   "source": [
    "evaluateRandomly(attn_encoder1, attn_decoder1, attention=True, n=5)"
   ]
  },
  {
   "cell_type": "code",
   "execution_count": 27,
   "metadata": {},
   "outputs": [
    {
     "name": "stdout",
     "output_type": "stream",
     "text": [
      "['छवि', 'फ़ाइल', 'का', 'स्थान']\n"
     ]
    },
    {
     "data": {
      "text/plain": [
       "<matplotlib.image.AxesImage at 0x7fdac0002460>"
      ]
     },
     "execution_count": 27,
     "metadata": {},
     "output_type": "execute_result"
    },
    {
     "data": {
      "image/png": "[encoded data removed]",
      "text/plain": [
       "<Figure size 1152x144 with 1 Axes>"
      ]
     },
     "metadata": {
      "needs_background": "light"
     },
     "output_type": "display_data"
    }
   ],
   "source": [
    "%matplotlib inline\n",
    "\n",
    "output_words, attentions = evaluate(\n",
    "    attn_encoder1, attn_decoder1, \"location for image file\", attention=True)\n",
    "print(output_words)\n",
    "plt.matshow(attentions.numpy(), aspect='auto')"
   ]
  },
  {
   "cell_type": "code",
   "execution_count": 28,
   "metadata": {},
   "outputs": [],
   "source": [
    "def get_test_data(attention=False):\n",
    "    if attention:\n",
    "        pairs_t = random.sample(pairs_train, 2400)\n",
    "        pairs_t.extend(random.sample(pairs_test, 107))\n",
    "    else:\n",
    "        pairs_t = random.sample(pairs_train, 2300)\n",
    "        pairs_t.extend(random.sample(pairs_test, 207))\n",
    "    return pairs_t"
   ]
  },
  {
   "cell_type": "code",
   "execution_count": 29,
   "metadata": {},
   "outputs": [
    {
     "name": "stderr",
     "output_type": "stream",
     "text": [
      "100%|██████████| 2507/2507 [00:15<00:00, 162.06it/s]"
     ]
    },
    {
     "name": "stdout",
     "output_type": "stream",
     "text": [
      "Number of Test Samples Evaluated on Seq2Seq Model: 2436\n",
      "Number of Test Samples Evaluated on Attention Model: 2436\n"
     ]
    },
    {
     "name": "stderr",
     "output_type": "stream",
     "text": [
      "\n"
     ]
    }
   ],
   "source": [
    "pairs_ta = get_test_data(attention=True)\n",
    "pairs_t = get_test_data()\n",
    "\n",
    "x_test = [pair[0] for pair in pairs_t]\n",
    "y_test = [pair[1].split() for pair in pairs_t]\n",
    "x_test_a = [pair[0] for pair in pairs_ta]\n",
    "y_test_a = [pair[1].split() for pair in pairs_ta]\n",
    "\n",
    "predicted_test = []\n",
    "reference_test = []\n",
    "predicted_test_attn = []\n",
    "reference_test_attn = []\n",
    "\n",
    "for senx, seny, senxa, senya in tqdm(zip(x_test, y_test, x_test_a, y_test_a), total=len(x_test)):\n",
    "    # With Attention\n",
    "    output_words_attn, attentions = evaluate(\n",
    "        attn_encoder1, attn_decoder1, senxa, attention=True)\n",
    "    # Without Attention\n",
    "    output_words = evaluate(\n",
    "        encoder1, decoder1, senx, attention=False)\n",
    "    if len(senx) > 0 and len(seny) > 0:\n",
    "        predicted_test.append(output_words)\n",
    "        reference_test.append([seny])\n",
    "    if len(senxa) > 0 and len(senya) > 0:\n",
    "        predicted_test_attn.append(output_words_attn)\n",
    "        reference_test_attn.append([senya])\n",
    "\n",
    "print(f'Number of Test Samples Evaluated on Seq2Seq Model: {len(predicted_test)}')\n",
    "print(f'Number of Test Samples Evaluated on Attention Model: {len(predicted_test)}')"
   ]
  },
  {
   "cell_type": "code",
   "execution_count": 30,
   "metadata": {},
   "outputs": [
    {
     "name": "stdout",
     "output_type": "stream",
     "text": [
      "BLEU Score for Normal Decoder: 0.5530443839910893\n",
      "BLEU Score for Attention Decoder: 0.6511479665068118\n"
     ]
    }
   ],
   "source": [
    "print(f'BLEU Score for Normal Decoder: {bleu_score(predicted_test, reference_test)}')\n",
    "print(f'BLEU Score for Attention Decoder: {bleu_score(predicted_test_attn, reference_test_attn)}')"
   ]
  }
 ],
 "metadata": {
  "interpreter": {
   "hash": "18a79c4ad4b4747103216beda75ee433ed606cf5511e439ef6c6701d351619de"
  },
  "kernelspec": {
   "display_name": "Python 3.9.12 ('nlp-a3')",
   "language": "python",
   "name": "python3"
  },
  "language_info": {
   "codemirror_mode": {
    "name": "ipython",
    "version": 3
   },
   "file_extension": ".py",
   "mimetype": "text/x-python",
   "name": "python",
   "nbconvert_exporter": "python",
   "pygments_lexer": "ipython3",
   "version": "3.9.12"
  },
  "orig_nbformat": 4
 },
 "nbformat": 4,
 "nbformat_minor": 2
}
